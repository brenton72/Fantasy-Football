{
 "cells": [
  {
   "cell_type": "code",
   "execution_count": 2,
   "metadata": {
    "collapsed": true
   },
   "outputs": [],
   "source": [
    "import pandas as pd\n",
    "import numpy as np"
   ]
  },
  {
   "cell_type": "code",
   "execution_count": 4,
   "metadata": {
    "collapsed": true
   },
   "outputs": [],
   "source": [
    "np.random.normal"
   ]
  },
  {
   "cell_type": "code",
   "execution_count": 44,
   "metadata": {
    "collapsed": true
   },
   "outputs": [],
   "source": [
    "e_mean = 139.24\n",
    "e_scale = 20\n",
    "\n",
    "m_mean = 130.57\n",
    "m_scale = 20\n",
    "\n",
    "j_mean = 108\n",
    "j_scale = 20\n",
    "\n",
    "todd_mean = 109.45\n",
    "todd_scale = 20\n",
    "\n",
    "ds_mean = 146.05\n",
    "ds_scale = 20\n",
    "\n",
    "herb_mean = 128.55\n",
    "herb_scale = 18\n",
    "\n",
    "w_mean = 121.11\n",
    "w_scale = 20\n",
    "\n",
    "db_mean = 111.91\n",
    "db_scale = 20\n",
    "\n",
    "e_j_gap = 1349.92 - 1292.06\n",
    "ds_w_gap = 1707.54 - 1694.64\n",
    "\n",
    "\n",
    "m_total = 1676.3\n",
    "herb_total = 1620.96\n",
    "todd_total = 1567.1\n",
    "db_total = 1537.42"
   ]
  },
  {
   "cell_type": "markdown",
   "metadata": {},
   "source": [
    "### Sacko simulations "
   ]
  },
  {
   "cell_type": "code",
   "execution_count": 31,
   "metadata": {
    "collapsed": false
   },
   "outputs": [],
   "source": [
    "e_wins_in = 0\n",
    "j_wins_in = 0\n",
    "\n",
    "e_loses_in = 0\n",
    "j_loses_in = 0\n",
    "\n",
    "\n",
    "for i in range(100000):\n",
    "    e_score = np.random.normal(e_mean, e_scale)\n",
    "    j_score = np.random.normal(j_mean, j_scale)\n",
    "    m_score = np.random.normal(m_mean, m_scale)\n",
    "    todd_score = np.random.normal(todd_mean, todd_scale)\n",
    "    if e_score > m_score and j_score > todd_score:\n",
    "        if e_score + e_j_gap > j_score:\n",
    "            e_wins_in = e_wins_in + 1\n",
    "        elif j_score > e_score + e_j_gap:\n",
    "            j_wins_in = j_wins_in + 1\n",
    "    elif e_score < m_score and j_score < todd_score:\n",
    "        if e_score + e_j_gap > j_score:\n",
    "            e_loses_in = e_loses_in + 1\n",
    "        elif j_score > e_score + e_j_gap:\n",
    "            j_loses_in = j_loses_in + 1"
   ]
  },
  {
   "cell_type": "code",
   "execution_count": 32,
   "metadata": {
    "collapsed": false
   },
   "outputs": [
    {
     "name": "stdout",
     "output_type": "stream",
     "text": [
      "29667 19683 3 4\n",
      "0.9998581761452277\n"
     ]
    }
   ],
   "source": [
    "total = e_wins_in+ e_loses_in+ j_wins_in+ j_loses_in\n",
    "print(e_wins_in, e_loses_in, j_wins_in, j_loses_in)\n",
    "eli_p_same_record = (e_wins_in + e_loses_in)/total\n",
    "print(eli_p_same_record)"
   ]
  },
  {
   "cell_type": "markdown",
   "metadata": {},
   "source": [
    "### Playoffs "
   ]
  },
  {
   "cell_type": "code",
   "execution_count": 41,
   "metadata": {
    "collapsed": false
   },
   "outputs": [],
   "source": [
    "w_wins_in = 0\n",
    "ds_loses_in = 0\n",
    "\n",
    "for i in range(100000):\n",
    "    ds_score = np.random.normal(ds_mean, ds_scale)\n",
    "    herb_score = np.random.normal(herb_mean, herb_scale)\n",
    "    w_score = np.random.normal(w_mean, w_scale)\n",
    "    db_score = np.random.normal(db_mean, db_scale)\n",
    "    if ds_score < herb_score and w_score > db_score:\n",
    "        if ds_score + ds_w_gap > w_score:\n",
    "            ds_loses_in = ds_loses_in + 1\n",
    "        elif w_score > ds_score + ds_w_gap:\n",
    "            w_wins_in = w_wins_in + 1"
   ]
  },
  {
   "cell_type": "code",
   "execution_count": 42,
   "metadata": {
    "collapsed": false
   },
   "outputs": [
    {
     "name": "stdout",
     "output_type": "stream",
     "text": [
      "11198 5015\n",
      "0.6906803182631222\n"
     ]
    }
   ],
   "source": [
    "total = ds_loses_in + w_wins_in\n",
    "print(ds_loses_in, w_wins_in)\n",
    "ds_p_same_record = (ds_loses_in)/total\n",
    "print(ds_p_same_record)"
   ]
  },
  {
   "cell_type": "markdown",
   "metadata": {},
   "source": [
    "### 5-8 chances "
   ]
  },
  {
   "cell_type": "code",
   "execution_count": 80,
   "metadata": {
    "collapsed": false
   },
   "outputs": [],
   "source": [
    "m_in = 0\n",
    "herb_in = 0\n",
    "todd_in = 0\n",
    "db_in = 0\n",
    "\n",
    "m_won = 0\n",
    "herb_won = 0\n",
    "todd_won = 0\n",
    "db_won = 0\n",
    "\n",
    "ct=0\n",
    "\n",
    "for i in range(100000):\n",
    "    m_score = np.random.normal(m_mean, m_scale)\n",
    "    herb_score = np.random.normal(herb_mean, herb_scale)\n",
    "    todd_score = np.random.normal(todd_mean, todd_scale)\n",
    "    db_score = np.random.normal(db_mean, db_scale)    \n",
    "    e_score = np.random.normal(e_mean, e_scale)\n",
    "    ds_score = np.random.normal(ds_mean, ds_scale)\n",
    "    j_score = np.random.normal(j_mean, j_scale)\n",
    "    w_score = np.random.normal(w_mean, w_scale)\n",
    "    \n",
    "    if m_score > e_score: m_won = 1\n",
    "    else: m_won = 0\n",
    "    if herb_score > ds_score: herb_won = 1\n",
    "    else: herb_won = 0\n",
    "    if todd_score > j_score: todd_won = 1\n",
    "    else: todd_won = 0\n",
    "    if db_score > w_score: db_won = 1\n",
    "    else: db_won = 0\n",
    "\n",
    "    M_FINAL = m_total + m_score\n",
    "    HERB_FINAL = herb_total + herb_score\n",
    "    TODD_FINAL = todd_total + todd_score\n",
    "    DB_FINAL = db_total + db_score\n",
    "\n",
    "    '''\n",
    "    if m_won = 1 and herb_won = 1 and todd_won = 0 and db_won = 0:\n",
    "        m_in = m_in+1\n",
    "        herb_in = herb_in+1\n",
    "    if m_won = 1 and herb_won = 0 and todd_won = 1 and db_won = 0:\n",
    "        m_in = m_in+1\n",
    "        todd_in = todd_in+1\n",
    "    if m_won = 1 and herb_won = 0 and todd_won = 0 and db_won = 1:\n",
    "        m_in = m_in+1\n",
    "        db_in = db_in+1\n",
    "    if m_won = 0 and herb_won = 1 and todd_won = 1 and db_won = 0:\n",
    "        herb_in = herb_in+1\n",
    "        todd_in = todd_in+1\n",
    "    if m_won = 0 and herb_won = 1 and todd_won = 0 and db_won = 1:\n",
    "        herb_in = herb_in+1\n",
    "        db_in = db_in+1\n",
    "    if m_won = 0 and herb_won = 0 and todd_won = 1 and db_won = 1:\n",
    "        todd_in = todd_in+1\n",
    "        db_in = db_in+1\n",
    "    '''\n",
    "    L = [M_FINAL, HERB_FINAL, TODD_FINAL, DB_FINAL]\n",
    "    L.sort()\n",
    "    \n",
    "    if (m_won == 0 and herb_won == 0 and todd_won == 0 and db_won == 0) or (m_won == 1 and herb_won == 1 and todd_won == 1 and db_won == 1):\n",
    "        ct= ct+1\n",
    "        if M_FINAL == L[-1] or M_FINAL == L[-2]:\n",
    "            m_in = m_in+1\n",
    "        if HERB_FINAL == L[-1] or HERB_FINAL == L[-2]:\n",
    "            herb_in = herb_in+1\n",
    "        if TODD_FINAL == L[-1] or TODD_FINAL == L[-2]:\n",
    "            todd_in = todd_in+1\n",
    "        if DB_FINAL == L[-1] or DB_FINAL == L[-2]:\n",
    "            db_in = db_in+1"
   ]
  },
  {
   "cell_type": "code",
   "execution_count": 76,
   "metadata": {
    "collapsed": false
   },
   "outputs": [
    {
     "data": {
      "text/plain": [
       "0"
      ]
     },
     "execution_count": 76,
     "metadata": {},
     "output_type": "execute_result"
    }
   ],
   "source": [
    "db_won"
   ]
  },
  {
   "cell_type": "code",
   "execution_count": 82,
   "metadata": {
    "collapsed": false
   },
   "outputs": [
    {
     "data": {
      "text/plain": [
       "15827"
      ]
     },
     "execution_count": 82,
     "metadata": {},
     "output_type": "execute_result"
    }
   ],
   "source": [
    "m_in"
   ]
  },
  {
   "cell_type": "code",
   "execution_count": 83,
   "metadata": {
    "collapsed": false
   },
   "outputs": [
    {
     "data": {
      "text/plain": [
       "15819"
      ]
     },
     "execution_count": 83,
     "metadata": {},
     "output_type": "execute_result"
    }
   ],
   "source": [
    "herb_in"
   ]
  },
  {
   "cell_type": "code",
   "execution_count": 79,
   "metadata": {
    "collapsed": false
   },
   "outputs": [
    {
     "data": {
      "text/plain": [
       "4"
      ]
     },
     "execution_count": 79,
     "metadata": {},
     "output_type": "execute_result"
    }
   ],
   "source": [
    "todd_in"
   ]
  },
  {
   "cell_type": "code",
   "execution_count": 81,
   "metadata": {
    "collapsed": false
   },
   "outputs": [
    {
     "data": {
      "text/plain": [
       "15827"
      ]
     },
     "execution_count": 81,
     "metadata": {},
     "output_type": "execute_result"
    }
   ],
   "source": [
    "ct"
   ]
  },
  {
   "cell_type": "code",
   "execution_count": null,
   "metadata": {
    "collapsed": true
   },
   "outputs": [],
   "source": []
  }
 ],
 "metadata": {
  "anaconda-cloud": {},
  "kernelspec": {
   "display_name": "Python [Root]",
   "language": "python",
   "name": "Python [Root]"
  },
  "language_info": {
   "codemirror_mode": {
    "name": "ipython",
    "version": 3
   },
   "file_extension": ".py",
   "mimetype": "text/x-python",
   "name": "python",
   "nbconvert_exporter": "python",
   "pygments_lexer": "ipython3",
   "version": "3.5.5"
  }
 },
 "nbformat": 4,
 "nbformat_minor": 0
}
