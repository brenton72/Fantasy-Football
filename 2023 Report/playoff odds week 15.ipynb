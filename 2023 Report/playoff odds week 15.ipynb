{
 "cells": [
  {
   "cell_type": "code",
   "execution_count": 1,
   "metadata": {
    "collapsed": true
   },
   "outputs": [],
   "source": [
    "import pandas as pd\n",
    "import numpy as np"
   ]
  },
  {
   "cell_type": "code",
   "execution_count": 42,
   "metadata": {
    "collapsed": false
   },
   "outputs": [
    {
     "data": {
      "text/plain": [
       "42.88000000000011"
      ]
     },
     "execution_count": 42,
     "metadata": {},
     "output_type": "execute_result"
    }
   ],
   "source": [
    "1728.48-1685.60"
   ]
  },
  {
   "cell_type": "code",
   "execution_count": 43,
   "metadata": {
    "collapsed": false
   },
   "outputs": [],
   "source": [
    "wk_total = 1728.48\n",
    "gw_total = 1689.64\n",
    "mf_total = 1685.60\n",
    "sl_total = 1672.00\n",
    "mo_total = 1559.52\n",
    "go_total = 1523.16\n",
    "hb_total = 1446.36\n",
    "pd_total = 1431.76\n",
    "\n",
    "\n",
    "\n",
    "GW=0\n",
    "MF=0 \n",
    "SL=0\n",
    "MO=0\n",
    "GO=0\n",
    "HB=0\n",
    "PD=0\n",
    "\n",
    "GW2=0\n",
    "MF2=0 \n",
    "SL2=0\n",
    "\n",
    "WK3=0\n",
    "GW3=0\n",
    "MF3=0 \n",
    "SL3=0\n",
    "\n",
    "\n",
    "for i in range(100000):\n",
    "    gw = 134.48 #np.random.normal(134.48, 8)\n",
    "    mf = 116.94 #np.random.normal(122.72, 7)\n",
    "    sl = np.random.normal(153.23, 10)\n",
    "    mo = np.random.normal(125.07, 8)\n",
    "    go = np.random.normal(77.78, 8)\n",
    "    hb = np.random.normal(125.85, 5)\n",
    "    pd = np.random.normal(101.94, 5)\n",
    "    wk = np.random.normal(107.76, 12)\n",
    "\n",
    "\n",
    "    if gw+gw_total > sl+sl_total:\n",
    "        GW=GW+1\n",
    "    else:\n",
    "        SL=SL+1    \n",
    "        \n",
    "    if mo+mo_total>go+go_total:\n",
    "        MO=MO+1\n",
    "    else:\n",
    "        GO=GO+1\n",
    "        \n",
    "    if hb+hb_total>pd+pd_total:\n",
    "        HB=HB+1\n",
    "    else:\n",
    "        PD=PD+1\n",
    "        \n",
    "    if gw+gw_total>mf+mf_total:\n",
    "        GW2=GW2+1\n",
    "    else:\n",
    "        MF=MF+1 \n",
    "        \n",
    "    if mf+mf_total>sl+sl_total:\n",
    "        MF2=MF2+1\n",
    "    else:\n",
    "        SL2=SL2+1 \n",
    "    \n",
    "    ####4 way scenario\n",
    "    if min(gw+gw_total,mf+mf_total,sl+sl_total, wk+wk_total) != gw+gw_total:\n",
    "        GW3 = GW3+1\n",
    "    if min(gw+gw_total,mf+mf_total,sl+sl_total, wk+wk_total) != mf+mf_total:\n",
    "        MF3 = MF3+1\n",
    "    if min(gw+gw_total,mf+mf_total,sl+sl_total, wk+wk_total) != sl+sl_total:\n",
    "        SL3 = SL3+1\n",
    "    if min(gw+gw_total,mf+mf_total,sl+sl_total, wk+wk_total) != wk+wk_total:\n",
    "        WK3 = WK3+1\n",
    "        "
   ]
  },
  {
   "cell_type": "code",
   "execution_count": 44,
   "metadata": {
    "collapsed": false
   },
   "outputs": [
    {
     "data": {
      "text/plain": [
       "100000"
      ]
     },
     "execution_count": 44,
     "metadata": {},
     "output_type": "execute_result"
    }
   ],
   "source": [
    "GW3"
   ]
  },
  {
   "cell_type": "code",
   "execution_count": 45,
   "metadata": {
    "collapsed": false
   },
   "outputs": [
    {
     "data": {
      "text/plain": [
       "1345"
      ]
     },
     "execution_count": 45,
     "metadata": {},
     "output_type": "execute_result"
    }
   ],
   "source": [
    "MF3"
   ]
  },
  {
   "cell_type": "code",
   "execution_count": 46,
   "metadata": {
    "collapsed": false
   },
   "outputs": [
    {
     "data": {
      "text/plain": [
       "98890"
      ]
     },
     "execution_count": 46,
     "metadata": {},
     "output_type": "execute_result"
    }
   ],
   "source": [
    "SL3"
   ]
  },
  {
   "cell_type": "code",
   "execution_count": 47,
   "metadata": {
    "collapsed": false
   },
   "outputs": [
    {
     "data": {
      "text/plain": [
       "99765"
      ]
     },
     "execution_count": 47,
     "metadata": {},
     "output_type": "execute_result"
    }
   ],
   "source": [
    "WK3"
   ]
  },
  {
   "cell_type": "code",
   "execution_count": 24,
   "metadata": {
    "collapsed": false
   },
   "outputs": [
    {
     "data": {
      "text/plain": [
       "100000"
      ]
     },
     "execution_count": 24,
     "metadata": {},
     "output_type": "execute_result"
    }
   ],
   "source": [
    "MO"
   ]
  },
  {
   "cell_type": "code",
   "execution_count": 25,
   "metadata": {
    "collapsed": false
   },
   "outputs": [
    {
     "data": {
      "text/plain": [
       "0"
      ]
     },
     "execution_count": 25,
     "metadata": {},
     "output_type": "execute_result"
    }
   ],
   "source": [
    "GO"
   ]
  },
  {
   "cell_type": "code",
   "execution_count": 26,
   "metadata": {
    "collapsed": false
   },
   "outputs": [
    {
     "data": {
      "text/plain": [
       "99956"
      ]
     },
     "execution_count": 26,
     "metadata": {},
     "output_type": "execute_result"
    }
   ],
   "source": [
    "HB"
   ]
  },
  {
   "cell_type": "code",
   "execution_count": 27,
   "metadata": {
    "collapsed": false
   },
   "outputs": [
    {
     "data": {
      "text/plain": [
       "44"
      ]
     },
     "execution_count": 27,
     "metadata": {},
     "output_type": "execute_result"
    }
   ],
   "source": [
    "PD"
   ]
  },
  {
   "cell_type": "code",
   "execution_count": null,
   "metadata": {
    "collapsed": true
   },
   "outputs": [],
   "source": []
  }
 ],
 "metadata": {
  "anaconda-cloud": {},
  "kernelspec": {
   "display_name": "Python [Root]",
   "language": "python",
   "name": "Python [Root]"
  },
  "language_info": {
   "codemirror_mode": {
    "name": "ipython",
    "version": 3
   },
   "file_extension": ".py",
   "mimetype": "text/x-python",
   "name": "python",
   "nbconvert_exporter": "python",
   "pygments_lexer": "ipython3",
   "version": "3.5.5"
  }
 },
 "nbformat": 4,
 "nbformat_minor": 0
}
