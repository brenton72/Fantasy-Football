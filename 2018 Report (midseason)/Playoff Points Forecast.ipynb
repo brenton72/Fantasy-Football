{
 "cells": [
  {
   "cell_type": "code",
   "execution_count": 5,
   "metadata": {
    "collapsed": true
   },
   "outputs": [],
   "source": [
    "import numpy as np\n",
    "import pandas as pd"
   ]
  },
  {
   "cell_type": "code",
   "execution_count": 45,
   "metadata": {
    "collapsed": true
   },
   "outputs": [],
   "source": [
    "#sacko games\n",
    "wolf = 87.22\n",
    "cam = 94.49\n",
    "brenton = 108.36\n",
    "jasjaap = 112.39\n",
    "\n",
    "#playoff games\n",
    "burnett = 87.10\n",
    "will = 93.69\n",
    "tommy = 112.5\n",
    "todd = 107.95\n",
    "\n",
    "#other\n",
    "mj = 91.91\n",
    "jay = 126.05\n",
    "brand = 96.14\n",
    "eli = 94.14\n",
    "\n",
    "std = 6"
   ]
  },
  {
   "cell_type": "code",
   "execution_count": 52,
   "metadata": {
    "collapsed": false
   },
   "outputs": [
    {
     "data": {
      "text/plain": [
       "1.620000000000033"
      ]
     },
     "execution_count": 52,
     "metadata": {},
     "output_type": "execute_result"
    }
   ],
   "source": [
    "87.1+tommy_gap - 104.44"
   ]
  },
  {
   "cell_type": "code",
   "execution_count": 46,
   "metadata": {
    "collapsed": true
   },
   "outputs": [],
   "source": [
    "wolf_gap = 1133.58 - 1089.74 #43.89\n",
    "tommy_gap = 1498.92 - 1479.96 #18.96\n",
    "mj_gap = 3.66\n",
    "todd_gap = 1285.76-1266.36"
   ]
  },
  {
   "cell_type": "code",
   "execution_count": 47,
   "metadata": {
    "collapsed": false
   },
   "outputs": [],
   "source": [
    "def simulate_pts(mu, std):\n",
    "    return np.random.normal(mu, std)"
   ]
  },
  {
   "cell_type": "code",
   "execution_count": 30,
   "metadata": {
    "collapsed": false
   },
   "outputs": [
    {
     "name": "stdout",
     "output_type": "stream",
     "text": [
      "1037 78718 0 0\n"
     ]
    },
    {
     "data": {
      "text/plain": [
       "0.0"
      ]
     },
     "execution_count": 30,
     "metadata": {},
     "output_type": "execute_result"
    }
   ],
   "source": [
    "#Sacko\n",
    "wwwolf = 0 \n",
    "llwolf = 0\n",
    "ww=0\n",
    "ll=0\n",
    "\n",
    "for i in range(100000):\n",
    "    W = simulate_pts(wolf, std)\n",
    "    C = simulate_pts(cam, std)\n",
    "    B = simulate_pts(brenton, std)\n",
    "    J = simulate_pts(jasjaap, std)\n",
    "    \n",
    "    if W>C and J>B:\n",
    "        ww = ww+1\n",
    "    if W<C and J<B:\n",
    "        ll = ll+1\n",
    "    \n",
    "    if W>C and J>B and W-J>wolf_gap:\n",
    "        wwwolf = wwwolf+1\n",
    "    if W<C and J<B and W-J>wolf_gap:\n",
    "        llwolf = llwolf+1\n",
    "        \n",
    "print(ww, ll, wwwolf, llwolf)\n",
    "(wwwolf+llwolf) / (ww+ll)"
   ]
  },
  {
   "cell_type": "code",
   "execution_count": 49,
   "metadata": {
    "collapsed": false
   },
   "outputs": [
    {
     "name": "stdout",
     "output_type": "stream",
     "text": [
      "9558 25680 9151 16087\n"
     ]
    },
    {
     "data": {
      "text/plain": [
       "0.7162154492309438"
      ]
     },
     "execution_count": 49,
     "metadata": {},
     "output_type": "execute_result"
    }
   ],
   "source": [
    "#Playoffs\n",
    "wwtommy = 0 \n",
    "lltommy = 0\n",
    "ww=0\n",
    "ll=0\n",
    "\n",
    "for i in range(100000):\n",
    "    TM = simulate_pts(tommy, std)\n",
    "    TD = simulate_pts(todd, std)\n",
    "    #BU = simulate_pts(burnett, std)\n",
    "    BU = 87.10\n",
    "    WI = simulate_pts(will, std)\n",
    "    \n",
    "    if TM>TD and BU>WI:\n",
    "        ww = ww+1\n",
    "    if TM<TD and BU<WI:\n",
    "        ll = ll+1\n",
    "    \n",
    "    if TM>TD and BU>WI and TM-BU>tommy_gap:\n",
    "        wwtommy = wwtommy+1\n",
    "    if TM<TD and BU<WI and TM-BU>tommy_gap:\n",
    "        lltommy = lltommy+1\n",
    "        \n",
    "print(ww, ll, wwtommy, lltommy)\n",
    "(wwtommy+lltommy) / (ww+ll)"
   ]
  },
  {
   "cell_type": "code",
   "execution_count": 44,
   "metadata": {
    "collapsed": false
   },
   "outputs": [
    {
     "name": "stdout",
     "output_type": "stream",
     "text": [
      "0 76099 0 21\n"
     ]
    },
    {
     "data": {
      "text/plain": [
       "0.00027595632005676814"
      ]
     },
     "execution_count": 44,
     "metadata": {},
     "output_type": "execute_result"
    }
   ],
   "source": [
    "#Brenton vs. MJ\n",
    "wwmj = 0 \n",
    "llmj = 0\n",
    "ww=0\n",
    "ll=0\n",
    "\n",
    "for i in range(100000):\n",
    "    B = simulate_pts(brenton, std)\n",
    "    J = simulate_pts(jasjaap, std)\n",
    "    M = simulate_pts(mj, std)\n",
    "    JayS = simulate_pts(jay, std)\n",
    "\n",
    "\n",
    "    if M>JayS and B>J:\n",
    "        ww = ww+1\n",
    "    if M<JayS and B<J:\n",
    "        ll = ll+1\n",
    "    \n",
    "    if M>JayS and B>J and M-B>mj_gap:\n",
    "        wwmj = wwmj+1\n",
    "    if M<JayS and B<J and M-B>mj_gap:\n",
    "        llmj = llmj+1\n",
    "        \n",
    "print(ww, ll, wwmj, llmj)\n",
    "(wwmj+llmj) / (ww+ll)\n"
   ]
  },
  {
   "cell_type": "code",
   "execution_count": 38,
   "metadata": {
    "collapsed": false
   },
   "outputs": [
    {
     "name": "stdout",
     "output_type": "stream",
     "text": [
      "53994 5647 5609 899\n"
     ]
    },
    {
     "data": {
      "text/plain": [
       "0.10911956539964118"
      ]
     },
     "execution_count": 38,
     "metadata": {},
     "output_type": "execute_result"
    }
   ],
   "source": [
    "#Todd vs. Eli\n",
    "\n",
    "wwT = 0 \n",
    "llT = 0\n",
    "ww=0\n",
    "ll=0\n",
    "\n",
    "for i in range(100000):\n",
    "    T = simulate_pts(todd, std)\n",
    "    To = simulate_pts(tommy, std)\n",
    "    E = simulate_pts(eli, std)\n",
    "    B = simulate_pts(brand, std)\n",
    "\n",
    "\n",
    "    if T>To and E>B:\n",
    "        ww = ww+1\n",
    "    if T<To and E<B:\n",
    "        ll = ll+1\n",
    "    \n",
    "    if T>To and E>B and T-E>todd_gap:\n",
    "        wwmj = wwmj+1\n",
    "    if T<To and E<B and T-E>todd_gap:\n",
    "        llmj = llmj+1\n",
    "        \n",
    "print(ww, ll, wwmj, llmj)\n",
    "(wwmj+llmj) / (ww+ll)\n"
   ]
  },
  {
   "cell_type": "code",
   "execution_count": null,
   "metadata": {
    "collapsed": true
   },
   "outputs": [],
   "source": []
  }
 ],
 "metadata": {
  "anaconda-cloud": {},
  "kernelspec": {
   "display_name": "Python [Root]",
   "language": "python",
   "name": "Python [Root]"
  },
  "language_info": {
   "codemirror_mode": {
    "name": "ipython",
    "version": 3
   },
   "file_extension": ".py",
   "mimetype": "text/x-python",
   "name": "python",
   "nbconvert_exporter": "python",
   "pygments_lexer": "ipython3",
   "version": "3.5.5"
  }
 },
 "nbformat": 4,
 "nbformat_minor": 0
}
