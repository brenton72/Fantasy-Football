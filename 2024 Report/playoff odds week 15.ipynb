{
 "cells": [
  {
   "cell_type": "code",
   "execution_count": 2,
   "metadata": {
    "collapsed": true
   },
   "outputs": [],
   "source": [
    "import pandas as pd\n",
    "import numpy as np"
   ]
  },
  {
   "cell_type": "code",
   "execution_count": 8,
   "metadata": {
    "collapsed": false
   },
   "outputs": [],
   "source": [
    "mf_total = 1581.84 #jay\n",
    "sl_total = 1736.38 #tommy\n",
    "pd_total = 1741.36 #cam\n",
    "pn_total = 1550.54 #mike\n",
    "ke_total = 1543.70 #kevin\n",
    "go_total = 0 #schulwolf\n",
    "hb_total = 0 #brand\n",
    "wk_total = 0 #will\n",
    "gw_total = 0 #brenton\n",
    "\n",
    "\n",
    "MF=0 \n",
    "SL=0\n",
    "PD=0\n",
    "PN=0\n",
    "KE=0\n",
    "\n",
    "MF2=0\n",
    "PN2=0\n",
    "KE2=0\n",
    "\n",
    "for i in range(100000):\n",
    "    mf = np.random.normal(112.77, 8) #jay\n",
    "    gw = np.random.normal(84.57, 5) #brenton\n",
    "    sl = np.random.normal(140.52, 8) #tommy\n",
    "    wk = np.random.normal(119, 12) #will\n",
    "    pd = np.random.normal(108.83, 10) #cam\n",
    "    td = np.random.normal(136.61, 10) #todd\n",
    "\n",
    "    ke = np.random.normal(68.25, 5) #kevin\n",
    "    hb = np.random.normal(99.22, 10) #brand\n",
    "    pn = 172.46 #np.random.normal(129.19, 8) #mike\n",
    "    em = np.random.normal(110.58, 18) #eli\n",
    "\n",
    "    #tommy vs. cam if tommy wins, cam loses\n",
    "    if pd+pd_total < sl+sl_total and sl > wk and pd < td:\n",
    "        SL=SL+1\n",
    "    elif pd+pd_total > sl+sl_total and sl > wk and pd < td:\n",
    "        PD=PD+1 \n",
    "    \n",
    "    #jay vs. mike if both win\n",
    "    if mf+mf_total > pn+pn_total and mf > gw and pn > em:\n",
    "        MF=MF+1\n",
    "    elif mf+mf_total < pn+pn_total and mf > gw and pn > em:\n",
    "        PN=PN+1 \n",
    "\n",
    "    #jay vs. kevin if Jay wins, Kevin loses\n",
    "    if mf+mf_total > ke+ke_total and mf > gw and ke < hb:\n",
    "        MF2=MF2+1\n",
    "    elif mf+mf_total < ke+ke_total and mf > gw and ke < hb:\n",
    "        KE=KE+1 \n",
    "    \n",
    "    #mike vs. kevin if Mike wins, Kevin loses\n",
    "    if pn+pn_total > ke+ke_total and pn > em and ke < hb:\n",
    "        PN2=PN2+1\n",
    "    elif pn+pn_total < ke+ke_total and pn > em and ke < hb:\n",
    "        KE2=KE2+1 "
   ]
  },
  {
   "cell_type": "code",
   "execution_count": 9,
   "metadata": {
    "collapsed": false
   },
   "outputs": [
    {
     "data": {
      "text/plain": [
       "0.9891956650766086"
      ]
     },
     "execution_count": 9,
     "metadata": {},
     "output_type": "execute_result"
    }
   ],
   "source": [
    "SL / (PD + SL) #probability of Tommy edging past Cam in points when Tommy wins, Cam loses"
   ]
  },
  {
   "cell_type": "code",
   "execution_count": 10,
   "metadata": {
    "collapsed": false
   },
   "outputs": [
    {
     "data": {
      "text/plain": [
       "0.00020026033843997197"
      ]
     },
     "execution_count": 10,
     "metadata": {},
     "output_type": "execute_result"
    }
   ],
   "source": [
    "MF / (MF + PN) #probability of Jay beating Mike in points when both win"
   ]
  },
  {
   "cell_type": "code",
   "execution_count": 11,
   "metadata": {
    "collapsed": false
   },
   "outputs": [
    {
     "data": {
      "text/plain": [
       "1.0"
      ]
     },
     "execution_count": 11,
     "metadata": {},
     "output_type": "execute_result"
    }
   ],
   "source": [
    "MF2 / (MF2 + KE) #probability of Jay beating Kevin in points when Jay wins, Kev loses"
   ]
  },
  {
   "cell_type": "code",
   "execution_count": 12,
   "metadata": {
    "collapsed": false
   },
   "outputs": [
    {
     "data": {
      "text/plain": [
       "1.0"
      ]
     },
     "execution_count": 12,
     "metadata": {},
     "output_type": "execute_result"
    }
   ],
   "source": [
    "PN2 / (PN2 + KE2) #probability of Mike beating Kevin in points when Mike wins, Kev loses"
   ]
  },
  {
   "cell_type": "code",
   "execution_count": null,
   "metadata": {
    "collapsed": true
   },
   "outputs": [],
   "source": []
  }
 ],
 "metadata": {
  "anaconda-cloud": {},
  "kernelspec": {
   "display_name": "Python [Root]",
   "language": "python",
   "name": "Python [Root]"
  },
  "language_info": {
   "codemirror_mode": {
    "name": "ipython",
    "version": 3
   },
   "file_extension": ".py",
   "mimetype": "text/x-python",
   "name": "python",
   "nbconvert_exporter": "python",
   "pygments_lexer": "ipython3",
   "version": "3.5.5"
  }
 },
 "nbformat": 4,
 "nbformat_minor": 0
}
