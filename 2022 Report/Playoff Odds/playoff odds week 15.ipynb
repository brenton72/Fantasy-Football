{
 "cells": [
  {
   "cell_type": "code",
   "execution_count": 1,
   "metadata": {
    "collapsed": true
   },
   "outputs": [],
   "source": [
    "import pandas as pd\n",
    "import numpy as np"
   ]
  },
  {
   "cell_type": "code",
   "execution_count": 88,
   "metadata": {
    "collapsed": false
   },
   "outputs": [],
   "source": [
    "gw_total = 1624.56\n",
    "nh_total = 1603.74\n",
    "pd_total = 1604.18\n",
    "mo_total = 1532.80\n",
    "pv_total = 1497.44\n",
    "br_total = 1688.32\n",
    "go_total = 1670.60\n",
    "\n",
    "\n",
    "GW=0\n",
    "NH=0 \n",
    "PD=0\n",
    "MO=0\n",
    "PV=0\n",
    "BR=0\n",
    "GO=0\n",
    "\n",
    "GW2=0\n",
    "NH2=0 \n",
    "PD2=0\n",
    "\n",
    "GW3=0\n",
    "NH3=0 \n",
    "PD3=0\n",
    "\n",
    "\n",
    "for i in range(100000):\n",
    "    gw = 126.2 #np.random.normal(113.22, 8)\n",
    "    nh = np.random.normal(120.93, 8)\n",
    "    pd = np.random.normal(103.19, 10)\n",
    "    mo = 120.66 #np.random.normal(123.86, 5)\n",
    "    pv = np.random.normal(135.97, 5)\n",
    "    br = np.random.normal(64.94, 5)\n",
    "    go = 101.80 #np.random.normal(97.55, 12)\n",
    "\n",
    "\n",
    "\n",
    "    if gw+gw_total>nh+nh_total:\n",
    "        GW=GW+1\n",
    "    else:\n",
    "        NH=NH+1    \n",
    "        \n",
    "    if mo+mo_total>pv+pv_total:\n",
    "        MO=MO+1\n",
    "    else:\n",
    "        PV=PV+1\n",
    "        \n",
    "    if gw+gw_total>pd+pd_total:\n",
    "        GW2=GW2+1\n",
    "    else:\n",
    "        PD=PD+1 \n",
    "        \n",
    "    if nh+nh_total>pd+pd_total:\n",
    "        NH2=NH2+1\n",
    "    else:\n",
    "        PD2=PD2+1 \n",
    "    \n",
    "    if br+br_total>go+go_total:\n",
    "        BR=BR+1\n",
    "    else:\n",
    "        GO=GO+1 \n",
    "        \n",
    "    ####3 way scenario\n",
    "    if max(gw+gw_total,nh+nh_total,pd+pd_total) == gw+gw_total:\n",
    "        GW3 = GW3+1\n",
    "    elif max(gw+gw_total,nh+nh_total,pd+pd_total) == nh+nh_total:\n",
    "        NH3 = NH3+1\n",
    "    if max(gw+gw_total,nh+nh_total,pd+pd_total) == pd+pd_total:\n",
    "        PD3 = PD3+1\n"
   ]
  },
  {
   "cell_type": "code",
   "execution_count": 89,
   "metadata": {
    "collapsed": false
   },
   "outputs": [
    {
     "data": {
      "text/plain": [
       "99943"
      ]
     },
     "execution_count": 89,
     "metadata": {},
     "output_type": "execute_result"
    }
   ],
   "source": [
    "GW3"
   ]
  },
  {
   "cell_type": "code",
   "execution_count": 90,
   "metadata": {
    "collapsed": false
   },
   "outputs": [
    {
     "data": {
      "text/plain": [
       "57"
      ]
     },
     "execution_count": 90,
     "metadata": {},
     "output_type": "execute_result"
    }
   ],
   "source": [
    "NH3"
   ]
  },
  {
   "cell_type": "code",
   "execution_count": 91,
   "metadata": {
    "collapsed": false
   },
   "outputs": [
    {
     "data": {
      "text/plain": [
       "0"
      ]
     },
     "execution_count": 91,
     "metadata": {},
     "output_type": "execute_result"
    }
   ],
   "source": [
    "PD3"
   ]
  },
  {
   "cell_type": "code",
   "execution_count": 92,
   "metadata": {
    "collapsed": false
   },
   "outputs": [
    {
     "data": {
      "text/plain": [
       "0.99994"
      ]
     },
     "execution_count": 92,
     "metadata": {},
     "output_type": "execute_result"
    }
   ],
   "source": [
    "MO/(MO+PV)"
   ]
  },
  {
   "cell_type": "code",
   "execution_count": 73,
   "metadata": {
    "collapsed": false
   },
   "outputs": [
    {
     "data": {
      "text/plain": [
       "0.87646"
      ]
     },
     "execution_count": 73,
     "metadata": {},
     "output_type": "execute_result"
    }
   ],
   "source": [
    "GW/(GW+NH)"
   ]
  },
  {
   "cell_type": "code",
   "execution_count": 74,
   "metadata": {
    "collapsed": false
   },
   "outputs": [
    {
     "data": {
      "text/plain": [
       "0.94921"
      ]
     },
     "execution_count": 74,
     "metadata": {},
     "output_type": "execute_result"
    }
   ],
   "source": [
    "GW2/(GW2+PD)"
   ]
  },
  {
   "cell_type": "code",
   "execution_count": 75,
   "metadata": {
    "collapsed": false
   },
   "outputs": [
    {
     "data": {
      "text/plain": [
       "0.15203"
      ]
     },
     "execution_count": 75,
     "metadata": {},
     "output_type": "execute_result"
    }
   ],
   "source": [
    "PD2/(NH2+PD2)"
   ]
  },
  {
   "cell_type": "code",
   "execution_count": 83,
   "metadata": {
    "collapsed": false
   },
   "outputs": [
    {
     "data": {
      "text/plain": [
       "8e-05"
      ]
     },
     "execution_count": 83,
     "metadata": {},
     "output_type": "execute_result"
    }
   ],
   "source": [
    "BR/(BR+GO)"
   ]
  },
  {
   "cell_type": "code",
   "execution_count": null,
   "metadata": {
    "collapsed": true
   },
   "outputs": [],
   "source": []
  }
 ],
 "metadata": {
  "anaconda-cloud": {},
  "kernelspec": {
   "display_name": "Python [Root]",
   "language": "python",
   "name": "Python [Root]"
  },
  "language_info": {
   "codemirror_mode": {
    "name": "ipython",
    "version": 3
   },
   "file_extension": ".py",
   "mimetype": "text/x-python",
   "name": "python",
   "nbconvert_exporter": "python",
   "pygments_lexer": "ipython3",
   "version": "3.5.5"
  }
 },
 "nbformat": 4,
 "nbformat_minor": 0
}
